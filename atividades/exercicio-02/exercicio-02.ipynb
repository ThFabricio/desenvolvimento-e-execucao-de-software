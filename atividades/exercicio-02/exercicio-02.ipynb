{
 "cells": [
  {
   "attachments": {},
   "cell_type": "markdown",
   "metadata": {},
   "source": [
    "# DESENVOLVIMENTO E EXECUÇÃO DE PROJETOS DE SOFTWARE 2022.2\n",
    "\n",
    "Docente: Ryan Ribeiro De Azevedo\n",
    "\n",
    "Dicente: Thiago Fabricio de Oliveira"
   ]
  },
  {
   "cell_type": "code",
   "execution_count": 1,
   "metadata": {},
   "outputs": [
    {
     "name": "stdout",
     "output_type": "stream",
     "text": [
      "Imagem carregada com sucesso!\n"
     ]
    },
    {
     "name": "stderr",
     "output_type": "stream",
     "text": [
      "Warning: Ignoring XDG_SESSION_TYPE=wayland on Gnome. Use QT_QPA_PLATFORM=wayland to run on Wayland anyway.\n"
     ]
    }
   ],
   "source": [
    "# Importar a biblioteca OpenCV\n",
    "import cv2\n",
    "\n",
    "# Carregar a imagem\n",
    "imagem = cv2.imread('exercicio-02.jpg')\n",
    "\n",
    "# Verificar se a imagem foi carregada corretamente\n",
    "if imagem is None:\n",
    "    print(\"Não foi possível carregar a imagem. Verifique o caminho e o formato do arquivo.\")\n",
    "else:\n",
    "    print(\"Imagem carregada com sucesso!\")\n",
    "\n",
    "# Exibir a imagem\n",
    "cv2.imshow('Imagem', imagem)\n",
    "cv2.waitKey(0)\n",
    "cv2.destroyAllWindows()\n"
   ]
  },
  {
   "cell_type": "code",
   "execution_count": 2,
   "metadata": {},
   "outputs": [],
   "source": [
    "# Converter a imagem para escala de cinza\n",
    "imagem_cinza = cv2.cvtColor(imagem, cv2.COLOR_BGR2GRAY)\n",
    "\n",
    "# Exibir a imagem em escala de cinza\n",
    "cv2.imshow('Imagem em Escala de Cinza', imagem_cinza)\n",
    "cv2.waitKey(0)\n",
    "cv2.destroyAllWindows()\n"
   ]
  },
  {
   "cell_type": "code",
   "execution_count": 3,
   "metadata": {},
   "outputs": [],
   "source": [
    "# Aplicar o algoritmo de detecção de bordas de Canny\n",
    "bordas = cv2.Canny(imagem_cinza, 100, 200)\n",
    "\n",
    "# Exibir as bordas detectadas\n",
    "cv2.imshow('Detecção de Bordas', bordas)\n",
    "cv2.waitKey(0)\n",
    "cv2.destroyAllWindows()\n",
    "\n",
    "# Encontrar os contornos na imagem\n",
    "contornos, _ = cv2.findContours(bordas, cv2.RETR_EXTERNAL, cv2.CHAIN_APPROX_SIMPLE)\n",
    "\n",
    "# Desenhar os contornos na imagem original\n",
    "cv2.drawContours(imagem, contornos, -1, (0, 255, 0), 2)\n",
    "\n",
    "# Exibir os contornos encontrados na imagem original\n",
    "cv2.imshow('Contornos', imagem)\n",
    "cv2.waitKey(0)\n",
    "cv2.destroyAllWindows()"
   ]
  },
  {
   "cell_type": "code",
   "execution_count": 4,
   "metadata": {},
   "outputs": [
    {
     "name": "stdout",
     "output_type": "stream",
     "text": [
      "Resultados salvos com sucesso!\n"
     ]
    }
   ],
   "source": [
    "# Salvar a imagem com os contornos\n",
    "cv2.imwrite('imagem_contornos.jpg', imagem)\n",
    "\n",
    "# Salvar a imagem em escala de cinza\n",
    "cv2.imwrite('imagem_cinza.jpg', imagem_cinza)\n",
    "\n",
    "# Salvar a imagem das bordas\n",
    "cv2.imwrite('imagem_bordas.jpg', bordas)\n",
    "\n",
    "print(\"Resultados salvos com sucesso!\")"
   ]
  },
  {
   "cell_type": "code",
   "execution_count": 7,
   "metadata": {},
   "outputs": [
    {
     "name": "stdout",
     "output_type": "stream",
     "text": [
      "Texturas predominantes:\n",
      "[[142.          87.70535714 175.75       170.69642857 148.3125\n",
      "   72.875      147.24107143 114.59821429  90.77678571 193.50892857\n",
      "  139.03571429 176.59821429 135.14285714  86.80357143 167.67857143\n",
      "  121.69642857 112.0625     165.79464286 110.11607143 161.625\n",
      "  154.64285714 163.5625     147.6875     132.6875     160.23214286\n",
      "  166.0625     174.19642857 149.125      145.47321429 196.60714286\n",
      "  120.55357143 115.10714286]\n",
      " [128.36170213 162.0106383  158.87234043 171.34042553 137.37234043\n",
      "  149.60638298  93.55319149 146.71276596 164.55319149 139.20212766\n",
      "  148.17021277  80.39361702 144.15957447 188.90425532 108.96808511\n",
      "  127.5212766  178.58510638 148.15957447 196.70212766  88.20212766\n",
      "   97.          94.88297872 171.4893617  162.08510638 176.03191489\n",
      "  188.64893617 119.56382979 135.03191489 124.28723404 104.55319149\n",
      "  125.31914894  90.        ]\n",
      " [129.81914894 138.67021277  83.03191489 194.17021277  71.21276596\n",
      "  130.65957447 114.45744681 153.24468085 133.79787234  85.71276596\n",
      "  183.36170213  74.24468085 133.64893617 114.34042553  88.04255319\n",
      "  107.87234043 134.27659574 168.64893617  91.30851064 169.87234043\n",
      "  139.06382979 145.92553191  83.79787234 137.14893617 195.60638298\n",
      "  197.72340426 148.9787234   69.75531915  83.61702128 143.37234043\n",
      "  125.4787234   95.11702128]\n",
      " [ 69.78823529 124.83529412 144.84705882 151.72941176 160.71764706\n",
      "  177.52941176 172.95294118 126.65882353 128.36470588  96.36470588\n",
      "  103.67058824 115.57647059 132.38823529 159.52941176 115.04705882\n",
      "   84.87058824 161.05882353  79.94117647  99.61176471  93.12941176\n",
      "  112.22352941 120.11764706 110.75294118 167.92941176 110.41176471\n",
      "   84.57647059 124.30588235 146.94117647 159.90588235 100.22352941\n",
      "  156.25882353 199.27058824]\n",
      " [ 96.35652174 173.87826087 121.97391304 147.60869565 157.73913043\n",
      "  140.6173913  184.53913043 175.25217391 127.02608696 133.83478261\n",
      "  161.28695652 176.03478261 108.28695652 156.74782609 168.11304348\n",
      "  152.19130435 143.14782609 165.04347826 141.22608696 185.91304348\n",
      "  198.02608696 131.65217391 105.26086957 217.86086957 102.2\n",
      "   85.42608696 153.66086957 177.69565217 110.66086957 152.5826087\n",
      "  166.39130435 184.70434783]]\n",
      "\n",
      "Cores predominantes:\n",
      "[[ 96  79  55]\n",
      " [206 174 148]\n",
      " [ 15 235  11]]\n"
     ]
    }
   ],
   "source": [
    "from sklearn.cluster import KMeans\n",
    "\n",
    "# Função para extrair as texturas da imagem\n",
    "def extrair_texturas(imagem, n_clusters):\n",
    "    # Converter a imagem para escala de cinza\n",
    "    imagem_cinza = cv2.cvtColor(imagem, cv2.COLOR_BGR2GRAY)\n",
    "\n",
    "    # Aplicar o algoritmo de detecção de texturas, como o Local Binary Patterns (LBP)\n",
    "    lbp = cv2.ORB_create()\n",
    "    keypoints, descritores = lbp.detectAndCompute(imagem_cinza, None)\n",
    "\n",
    "    # Utilizar o algoritmo K-means para agrupar os descritores\n",
    "    kmeans = KMeans(n_clusters=n_clusters)\n",
    "    kmeans.fit(descritores)\n",
    "\n",
    "    # Retornar os centróides dos grupos como as texturas predominantes\n",
    "    texturas_predominantes = kmeans.cluster_centers_\n",
    "\n",
    "    return texturas_predominantes\n",
    "\n",
    "\n",
    "# Função para extrair as cores predominantes da imagem\n",
    "def extrair_cores_predominantes(imagem, n_cores):\n",
    "    # Redimensionar a imagem para facilitar o processamento\n",
    "    imagem_redimensionada = cv2.resize(imagem, (100, 100))\n",
    "\n",
    "    # Converter a imagem para o espaço de cores RGB\n",
    "    imagem_rgb = cv2.cvtColor(imagem_redimensionada, cv2.COLOR_BGR2RGB)\n",
    "\n",
    "    # Transformar a imagem em um vetor de pixels\n",
    "    pixels = imagem_rgb.reshape(-1, 3)\n",
    "\n",
    "    # Utilizar o algoritmo K-means para agrupar os pixels em clusters de cores\n",
    "    kmeans = KMeans(n_clusters=n_cores)\n",
    "    kmeans.fit(pixels)\n",
    "\n",
    "    # Retornar os centróides dos clusters como as cores predominantes\n",
    "    cores_predominantes = kmeans.cluster_centers_\n",
    "\n",
    "    return cores_predominantes.astype(int)\n",
    "\n",
    "# Definir o número de clusters para as texturas e cores\n",
    "n_texturas = 5\n",
    "n_cores = 3\n",
    "\n",
    "# Extrair as texturas predominantes\n",
    "texturas = extrair_texturas(imagem, n_texturas)\n",
    "\n",
    "# Extrair as cores predominantes\n",
    "cores = extrair_cores_predominantes(imagem, n_cores)\n",
    "\n",
    "# Exibir as texturas e cores predominantes\n",
    "print(\"Texturas predominantes:\")\n",
    "print(texturas)\n",
    "print(\"\\nCores predominantes:\")\n",
    "print(cores)"
   ]
  }
 ],
 "metadata": {
  "kernelspec": {
   "display_name": "Python 3",
   "language": "python",
   "name": "python3"
  },
  "language_info": {
   "codemirror_mode": {
    "name": "ipython",
    "version": 3
   },
   "file_extension": ".py",
   "mimetype": "text/x-python",
   "name": "python",
   "nbconvert_exporter": "python",
   "pygments_lexer": "ipython3",
   "version": "3.11.3"
  },
  "orig_nbformat": 4
 },
 "nbformat": 4,
 "nbformat_minor": 2
}
